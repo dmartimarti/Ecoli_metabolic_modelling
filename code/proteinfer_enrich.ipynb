{
 "cells": [
  {
   "cell_type": "code",
   "execution_count": 1,
   "metadata": {},
   "outputs": [],
   "source": [
    "# this script reads an input file (csv) with the following columns: gene, predicted_label, confidence, description, annotated\n",
    "# it also reads a list of genes (one per line) from a csv file with a header \"gene\"\n",
    "# the first csv file contains a list of genes and their GO terms annotations in the column \"predicted_label\"\n",
    "# First filter the file to keep annotated == \"Yes\"\n",
    "# Second, take the list of genes from the second file and calculate an enrichment test for the list of GO terms given in the first file\n",
    "# The enrichment test is done using the hypergeometric test from scipy.stats.hypergeom\n",
    "# The output is a csv file with the following columns: predicted_label, pvalue, enrichment\n",
    "# use pandas to read the csv files\n",
    "# import the files in the terminal line using the following command:\n",
    "# python proteinfer_enrich.py input.csv genes.csv"
   ]
  },
  {
   "cell_type": "code",
   "execution_count": 2,
   "metadata": {},
   "outputs": [],
   "source": [
    "import pandas as pd\n",
    "import numpy as np\n",
    "from scipy.stats import hypergeom\n",
    "from tqdm import tqdm\n",
    "import multiprocessing as mp"
   ]
  },
  {
   "cell_type": "code",
   "execution_count": null,
   "metadata": {},
   "outputs": [],
   "source": []
  }
 ],
 "metadata": {
  "kernelspec": {
   "display_name": "pyseer",
   "language": "python",
   "name": "python3"
  },
  "language_info": {
   "codemirror_mode": {
    "name": "ipython",
    "version": 3
   },
   "file_extension": ".py",
   "mimetype": "text/x-python",
   "name": "python",
   "nbconvert_exporter": "python",
   "pygments_lexer": "ipython3",
   "version": "3.10.8"
  },
  "orig_nbformat": 4
 },
 "nbformat": 4,
 "nbformat_minor": 2
}
