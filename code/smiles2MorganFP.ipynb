{
 "cells": [
  {
   "cell_type": "code",
   "execution_count": 19,
   "metadata": {},
   "outputs": [],
   "source": [
    "import pandas as pd\n",
    "import numpy as np\n",
    "\n",
    "from rdkit import Chem\n",
    "from rdkit.Chem import RDKFingerprint\n",
    "from rdkit.Chem import rdMolDescriptors\n",
    "from rdkit.Chem import AllChem\n"
   ]
  },
  {
   "cell_type": "code",
   "execution_count": 5,
   "metadata": {},
   "outputs": [],
   "source": [
    "\"read an excel file with pandas named: ModelSeed_polyamines_metf_smiles.xlsx\"\n",
    "df = pd.read_excel(\"../tables/ModelSeed_polyamines_metf_smiles.xlsx\")"
   ]
  },
  {
   "cell_type": "code",
   "execution_count": 6,
   "metadata": {},
   "outputs": [
    {
     "data": {
      "text/html": [
       "<div>\n",
       "<style scoped>\n",
       "    .dataframe tbody tr th:only-of-type {\n",
       "        vertical-align: middle;\n",
       "    }\n",
       "\n",
       "    .dataframe tbody tr th {\n",
       "        vertical-align: top;\n",
       "    }\n",
       "\n",
       "    .dataframe thead th {\n",
       "        text-align: right;\n",
       "    }\n",
       "</style>\n",
       "<table border=\"1\" class=\"dataframe\">\n",
       "  <thead>\n",
       "    <tr style=\"text-align: right;\">\n",
       "      <th></th>\n",
       "      <th>Drug</th>\n",
       "      <th>smiles</th>\n",
       "    </tr>\n",
       "  </thead>\n",
       "  <tbody>\n",
       "    <tr>\n",
       "      <th>0</th>\n",
       "      <td>H2O</td>\n",
       "      <td>O</td>\n",
       "    </tr>\n",
       "    <tr>\n",
       "      <th>1</th>\n",
       "      <td>ATP</td>\n",
       "      <td>Nc1ncnc2c1ncn2[C@@H]1O[C@H](COP(=O)([O-])OP(=O...</td>\n",
       "    </tr>\n",
       "    <tr>\n",
       "      <th>2</th>\n",
       "      <td>NAD</td>\n",
       "      <td>NC(=O)c1ccc[n+]([C@@H]2O[C@H](COP(=O)([O-])OP(...</td>\n",
       "    </tr>\n",
       "    <tr>\n",
       "      <th>3</th>\n",
       "      <td>NADH</td>\n",
       "      <td>NC(=O)C1=CN([C@@H]2O[C@H](COP(=O)([O-])OP(=O)(...</td>\n",
       "    </tr>\n",
       "    <tr>\n",
       "      <th>4</th>\n",
       "      <td>NADPH</td>\n",
       "      <td>NC(=O)C1=CN([C@@H]2O[C@H](COP(=O)([O-])OP(=O)(...</td>\n",
       "    </tr>\n",
       "    <tr>\n",
       "      <th>...</th>\n",
       "      <td>...</td>\n",
       "      <td>...</td>\n",
       "    </tr>\n",
       "    <tr>\n",
       "      <th>26992</th>\n",
       "      <td>spermine</td>\n",
       "      <td>C(CCC[NH2+]CCC[NH3+])[NH2+]CCC[NH3+]</td>\n",
       "    </tr>\n",
       "    <tr>\n",
       "      <th>26993</th>\n",
       "      <td>sym-homospermidine</td>\n",
       "      <td>C(CCC[NH2+]CCCC[NH3+])[NH3+]</td>\n",
       "    </tr>\n",
       "    <tr>\n",
       "      <th>26994</th>\n",
       "      <td>thermospermine</td>\n",
       "      <td>C([NH3+])CCC[NH2+]CCC[NH2+]CCC[NH3+]</td>\n",
       "    </tr>\n",
       "    <tr>\n",
       "      <th>26995</th>\n",
       "      <td>tris(3-aminopropyl)amine</td>\n",
       "      <td>C([NH3+])CCN(CCC[NH3+])CCC[NH3+]</td>\n",
       "    </tr>\n",
       "    <tr>\n",
       "      <th>26996</th>\n",
       "      <td>metformin</td>\n",
       "      <td>CN(C)C(=N)N=C(N)N</td>\n",
       "    </tr>\n",
       "  </tbody>\n",
       "</table>\n",
       "<p>26997 rows × 2 columns</p>\n",
       "</div>"
      ],
      "text/plain": [
       "                           Drug  \\\n",
       "0                           H2O   \n",
       "1                           ATP   \n",
       "2                           NAD   \n",
       "3                          NADH   \n",
       "4                         NADPH   \n",
       "...                         ...   \n",
       "26992                  spermine   \n",
       "26993        sym-homospermidine   \n",
       "26994            thermospermine   \n",
       "26995  tris(3-aminopropyl)amine   \n",
       "26996                 metformin   \n",
       "\n",
       "                                                  smiles  \n",
       "0                                                      O  \n",
       "1      Nc1ncnc2c1ncn2[C@@H]1O[C@H](COP(=O)([O-])OP(=O...  \n",
       "2      NC(=O)c1ccc[n+]([C@@H]2O[C@H](COP(=O)([O-])OP(...  \n",
       "3      NC(=O)C1=CN([C@@H]2O[C@H](COP(=O)([O-])OP(=O)(...  \n",
       "4      NC(=O)C1=CN([C@@H]2O[C@H](COP(=O)([O-])OP(=O)(...  \n",
       "...                                                  ...  \n",
       "26992               C(CCC[NH2+]CCC[NH3+])[NH2+]CCC[NH3+]  \n",
       "26993                       C(CCC[NH2+]CCCC[NH3+])[NH3+]  \n",
       "26994               C([NH3+])CCC[NH2+]CCC[NH2+]CCC[NH3+]  \n",
       "26995                   C([NH3+])CCN(CCC[NH3+])CCC[NH3+]  \n",
       "26996                                  CN(C)C(=N)N=C(N)N  \n",
       "\n",
       "[26997 rows x 2 columns]"
      ]
     },
     "execution_count": 6,
     "metadata": {},
     "output_type": "execute_result"
    }
   ],
   "source": [
    "df"
   ]
  },
  {
   "cell_type": "code",
   "execution_count": 33,
   "metadata": {},
   "outputs": [],
   "source": [
    "def smiles2MorganFP(df):\n",
    "    \"\"\"\n",
    "    This function takes a dataframe with smiles and returns a dataframe with Morgan fingerprints, using AllChem.GetMorganFingerprint, converted in to a vector.\n",
    "    \"\"\"\n",
    "    df['MorganFP'] = df['smiles'].apply(lambda x: AllChem.GetMorganFingerprintAsBitVect(Chem.MolFromSmiles(x), 2))\n",
    "    return df"
   ]
  },
  {
   "cell_type": "code",
   "execution_count": 34,
   "metadata": {},
   "outputs": [
    {
     "data": {
      "text/html": [
       "<div>\n",
       "<style scoped>\n",
       "    .dataframe tbody tr th:only-of-type {\n",
       "        vertical-align: middle;\n",
       "    }\n",
       "\n",
       "    .dataframe tbody tr th {\n",
       "        vertical-align: top;\n",
       "    }\n",
       "\n",
       "    .dataframe thead th {\n",
       "        text-align: right;\n",
       "    }\n",
       "</style>\n",
       "<table border=\"1\" class=\"dataframe\">\n",
       "  <thead>\n",
       "    <tr style=\"text-align: right;\">\n",
       "      <th></th>\n",
       "      <th>Drug</th>\n",
       "      <th>smiles</th>\n",
       "    </tr>\n",
       "  </thead>\n",
       "  <tbody>\n",
       "    <tr>\n",
       "      <th>0</th>\n",
       "      <td>H2O</td>\n",
       "      <td>O</td>\n",
       "    </tr>\n",
       "    <tr>\n",
       "      <th>1</th>\n",
       "      <td>ATP</td>\n",
       "      <td>Nc1ncnc2c1ncn2[C@@H]1O[C@H](COP(=O)([O-])OP(=O...</td>\n",
       "    </tr>\n",
       "    <tr>\n",
       "      <th>2</th>\n",
       "      <td>NAD</td>\n",
       "      <td>NC(=O)c1ccc[n+]([C@@H]2O[C@H](COP(=O)([O-])OP(...</td>\n",
       "    </tr>\n",
       "    <tr>\n",
       "      <th>3</th>\n",
       "      <td>NADH</td>\n",
       "      <td>NC(=O)C1=CN([C@@H]2O[C@H](COP(=O)([O-])OP(=O)(...</td>\n",
       "    </tr>\n",
       "    <tr>\n",
       "      <th>4</th>\n",
       "      <td>NADPH</td>\n",
       "      <td>NC(=O)C1=CN([C@@H]2O[C@H](COP(=O)([O-])OP(=O)(...</td>\n",
       "    </tr>\n",
       "  </tbody>\n",
       "</table>\n",
       "</div>"
      ],
      "text/plain": [
       "    Drug                                             smiles\n",
       "0    H2O                                                  O\n",
       "1    ATP  Nc1ncnc2c1ncn2[C@@H]1O[C@H](COP(=O)([O-])OP(=O...\n",
       "2    NAD  NC(=O)c1ccc[n+]([C@@H]2O[C@H](COP(=O)([O-])OP(...\n",
       "3   NADH  NC(=O)C1=CN([C@@H]2O[C@H](COP(=O)([O-])OP(=O)(...\n",
       "4  NADPH  NC(=O)C1=CN([C@@H]2O[C@H](COP(=O)([O-])OP(=O)(..."
      ]
     },
     "execution_count": 34,
     "metadata": {},
     "output_type": "execute_result"
    }
   ],
   "source": [
    "df.head()"
   ]
  },
  {
   "cell_type": "code",
   "execution_count": 50,
   "metadata": {},
   "outputs": [
    {
     "name": "stderr",
     "output_type": "stream",
     "text": [
      "[17:59:09] WARNING: not removing hydrogen atom without neighbors\n",
      "[17:59:10] Conflicting single bond directions around double bond at index 1.\n",
      "[17:59:10]   BondStereo set to STEREONONE and single bond directions set to NONE.\n",
      "[17:59:10] Conflicting single bond directions around double bond at index 1.\n",
      "[17:59:10]   BondStereo set to STEREONONE and single bond directions set to NONE.\n",
      "[17:59:10] Explicit valence for atom # 11 B, 7, is greater than permitted\n"
     ]
    },
    {
     "ename": "ArgumentError",
     "evalue": "Python argument types in\n    rdkit.Chem.rdMolDescriptors.GetMorganFingerprintAsBitVect(NoneType, int)\ndid not match C++ signature:\n    GetMorganFingerprintAsBitVect(RDKit::ROMol mol, unsigned int radius, unsigned int nBits=2048, boost::python::api::object invariants=[], boost::python::api::object fromAtoms=[], bool useChirality=False, bool useBondTypes=True, bool useFeatures=False, boost::python::api::object bitInfo=None, bool includeRedundantEnvironments=False)",
     "output_type": "error",
     "traceback": [
      "\u001b[0;31m---------------------------------------------------------------------------\u001b[0m",
      "\u001b[0;31mArgumentError\u001b[0m                             Traceback (most recent call last)",
      "\u001b[1;32m/Users/danmarti/Documents/MRC_postdoc/My_projects/Ecoli_metabolic_modelling/code/smiles2MorganFP.ipynb Cell 6\u001b[0m in \u001b[0;36m<cell line: 1>\u001b[0;34m()\u001b[0m\n\u001b[0;32m----> <a href='vscode-notebook-cell:/Users/danmarti/Documents/MRC_postdoc/My_projects/Ecoli_metabolic_modelling/code/smiles2MorganFP.ipynb#ch0000009?line=0'>1</a>\u001b[0m smiles2MorganFP(df\u001b[39m.\u001b[39;49mhead(\u001b[39m9250\u001b[39;49m))\n",
      "\u001b[1;32m/Users/danmarti/Documents/MRC_postdoc/My_projects/Ecoli_metabolic_modelling/code/smiles2MorganFP.ipynb Cell 6\u001b[0m in \u001b[0;36msmiles2MorganFP\u001b[0;34m(df)\u001b[0m\n\u001b[1;32m      <a href='vscode-notebook-cell:/Users/danmarti/Documents/MRC_postdoc/My_projects/Ecoli_metabolic_modelling/code/smiles2MorganFP.ipynb#ch0000009?line=0'>1</a>\u001b[0m \u001b[39mdef\u001b[39;00m \u001b[39msmiles2MorganFP\u001b[39m(df):\n\u001b[1;32m      <a href='vscode-notebook-cell:/Users/danmarti/Documents/MRC_postdoc/My_projects/Ecoli_metabolic_modelling/code/smiles2MorganFP.ipynb#ch0000009?line=1'>2</a>\u001b[0m     \u001b[39m\"\"\"\u001b[39;00m\n\u001b[1;32m      <a href='vscode-notebook-cell:/Users/danmarti/Documents/MRC_postdoc/My_projects/Ecoli_metabolic_modelling/code/smiles2MorganFP.ipynb#ch0000009?line=2'>3</a>\u001b[0m \u001b[39m    This function takes a dataframe with smiles and returns a dataframe with Morgan fingerprints, using AllChem.GetMorganFingerprint, converted in to a vector.\u001b[39;00m\n\u001b[1;32m      <a href='vscode-notebook-cell:/Users/danmarti/Documents/MRC_postdoc/My_projects/Ecoli_metabolic_modelling/code/smiles2MorganFP.ipynb#ch0000009?line=3'>4</a>\u001b[0m \u001b[39m    \"\"\"\u001b[39;00m\n\u001b[0;32m----> <a href='vscode-notebook-cell:/Users/danmarti/Documents/MRC_postdoc/My_projects/Ecoli_metabolic_modelling/code/smiles2MorganFP.ipynb#ch0000009?line=4'>5</a>\u001b[0m     df[\u001b[39m'\u001b[39m\u001b[39mMorganFP\u001b[39m\u001b[39m'\u001b[39m] \u001b[39m=\u001b[39m df[\u001b[39m'\u001b[39;49m\u001b[39msmiles\u001b[39;49m\u001b[39m'\u001b[39;49m]\u001b[39m.\u001b[39;49mapply(\u001b[39mlambda\u001b[39;49;00m x: AllChem\u001b[39m.\u001b[39;49mGetMorganFingerprintAsBitVect(Chem\u001b[39m.\u001b[39;49mMolFromSmiles(x), \u001b[39m2\u001b[39;49m))\n\u001b[1;32m      <a href='vscode-notebook-cell:/Users/danmarti/Documents/MRC_postdoc/My_projects/Ecoli_metabolic_modelling/code/smiles2MorganFP.ipynb#ch0000009?line=5'>6</a>\u001b[0m     \u001b[39mreturn\u001b[39;00m df\n",
      "File \u001b[0;32m~/miniforge3/envs/rdkit/lib/python3.10/site-packages/pandas/core/series.py:4433\u001b[0m, in \u001b[0;36mSeries.apply\u001b[0;34m(self, func, convert_dtype, args, **kwargs)\u001b[0m\n\u001b[1;32m   4323\u001b[0m \u001b[39mdef\u001b[39;00m \u001b[39mapply\u001b[39m(\n\u001b[1;32m   4324\u001b[0m     \u001b[39mself\u001b[39m,\n\u001b[1;32m   4325\u001b[0m     func: AggFuncType,\n\u001b[0;32m   (...)\u001b[0m\n\u001b[1;32m   4328\u001b[0m     \u001b[39m*\u001b[39m\u001b[39m*\u001b[39mkwargs,\n\u001b[1;32m   4329\u001b[0m ) \u001b[39m-\u001b[39m\u001b[39m>\u001b[39m DataFrame \u001b[39m|\u001b[39m Series:\n\u001b[1;32m   4330\u001b[0m     \u001b[39m\"\"\"\u001b[39;00m\n\u001b[1;32m   4331\u001b[0m \u001b[39m    Invoke function on values of Series.\u001b[39;00m\n\u001b[1;32m   4332\u001b[0m \n\u001b[0;32m   (...)\u001b[0m\n\u001b[1;32m   4431\u001b[0m \u001b[39m    dtype: float64\u001b[39;00m\n\u001b[1;32m   4432\u001b[0m \u001b[39m    \"\"\"\u001b[39;00m\n\u001b[0;32m-> 4433\u001b[0m     \u001b[39mreturn\u001b[39;00m SeriesApply(\u001b[39mself\u001b[39;49m, func, convert_dtype, args, kwargs)\u001b[39m.\u001b[39;49mapply()\n",
      "File \u001b[0;32m~/miniforge3/envs/rdkit/lib/python3.10/site-packages/pandas/core/apply.py:1088\u001b[0m, in \u001b[0;36mSeriesApply.apply\u001b[0;34m(self)\u001b[0m\n\u001b[1;32m   1084\u001b[0m \u001b[39mif\u001b[39;00m \u001b[39misinstance\u001b[39m(\u001b[39mself\u001b[39m\u001b[39m.\u001b[39mf, \u001b[39mstr\u001b[39m):\n\u001b[1;32m   1085\u001b[0m     \u001b[39m# if we are a string, try to dispatch\u001b[39;00m\n\u001b[1;32m   1086\u001b[0m     \u001b[39mreturn\u001b[39;00m \u001b[39mself\u001b[39m\u001b[39m.\u001b[39mapply_str()\n\u001b[0;32m-> 1088\u001b[0m \u001b[39mreturn\u001b[39;00m \u001b[39mself\u001b[39;49m\u001b[39m.\u001b[39;49mapply_standard()\n",
      "File \u001b[0;32m~/miniforge3/envs/rdkit/lib/python3.10/site-packages/pandas/core/apply.py:1143\u001b[0m, in \u001b[0;36mSeriesApply.apply_standard\u001b[0;34m(self)\u001b[0m\n\u001b[1;32m   1137\u001b[0m         values \u001b[39m=\u001b[39m obj\u001b[39m.\u001b[39mastype(\u001b[39mobject\u001b[39m)\u001b[39m.\u001b[39m_values\n\u001b[1;32m   1138\u001b[0m         \u001b[39m# error: Argument 2 to \"map_infer\" has incompatible type\u001b[39;00m\n\u001b[1;32m   1139\u001b[0m         \u001b[39m# \"Union[Callable[..., Any], str, List[Union[Callable[..., Any], str]],\u001b[39;00m\n\u001b[1;32m   1140\u001b[0m         \u001b[39m# Dict[Hashable, Union[Union[Callable[..., Any], str],\u001b[39;00m\n\u001b[1;32m   1141\u001b[0m         \u001b[39m# List[Union[Callable[..., Any], str]]]]]\"; expected\u001b[39;00m\n\u001b[1;32m   1142\u001b[0m         \u001b[39m# \"Callable[[Any], Any]\"\u001b[39;00m\n\u001b[0;32m-> 1143\u001b[0m         mapped \u001b[39m=\u001b[39m lib\u001b[39m.\u001b[39;49mmap_infer(\n\u001b[1;32m   1144\u001b[0m             values,\n\u001b[1;32m   1145\u001b[0m             f,  \u001b[39m# type: ignore[arg-type]\u001b[39;49;00m\n\u001b[1;32m   1146\u001b[0m             convert\u001b[39m=\u001b[39;49m\u001b[39mself\u001b[39;49m\u001b[39m.\u001b[39;49mconvert_dtype,\n\u001b[1;32m   1147\u001b[0m         )\n\u001b[1;32m   1149\u001b[0m \u001b[39mif\u001b[39;00m \u001b[39mlen\u001b[39m(mapped) \u001b[39mand\u001b[39;00m \u001b[39misinstance\u001b[39m(mapped[\u001b[39m0\u001b[39m], ABCSeries):\n\u001b[1;32m   1150\u001b[0m     \u001b[39m# GH#43986 Need to do list(mapped) in order to get treated as nested\u001b[39;00m\n\u001b[1;32m   1151\u001b[0m     \u001b[39m#  See also GH#25959 regarding EA support\u001b[39;00m\n\u001b[1;32m   1152\u001b[0m     \u001b[39mreturn\u001b[39;00m obj\u001b[39m.\u001b[39m_constructor_expanddim(\u001b[39mlist\u001b[39m(mapped), index\u001b[39m=\u001b[39mobj\u001b[39m.\u001b[39mindex)\n",
      "File \u001b[0;32m~/miniforge3/envs/rdkit/lib/python3.10/site-packages/pandas/_libs/lib.pyx:2870\u001b[0m, in \u001b[0;36mpandas._libs.lib.map_infer\u001b[0;34m()\u001b[0m\n",
      "\u001b[1;32m/Users/danmarti/Documents/MRC_postdoc/My_projects/Ecoli_metabolic_modelling/code/smiles2MorganFP.ipynb Cell 6\u001b[0m in \u001b[0;36msmiles2MorganFP.<locals>.<lambda>\u001b[0;34m(x)\u001b[0m\n\u001b[1;32m      <a href='vscode-notebook-cell:/Users/danmarti/Documents/MRC_postdoc/My_projects/Ecoli_metabolic_modelling/code/smiles2MorganFP.ipynb#ch0000009?line=0'>1</a>\u001b[0m \u001b[39mdef\u001b[39;00m \u001b[39msmiles2MorganFP\u001b[39m(df):\n\u001b[1;32m      <a href='vscode-notebook-cell:/Users/danmarti/Documents/MRC_postdoc/My_projects/Ecoli_metabolic_modelling/code/smiles2MorganFP.ipynb#ch0000009?line=1'>2</a>\u001b[0m     \u001b[39m\"\"\"\u001b[39;00m\n\u001b[1;32m      <a href='vscode-notebook-cell:/Users/danmarti/Documents/MRC_postdoc/My_projects/Ecoli_metabolic_modelling/code/smiles2MorganFP.ipynb#ch0000009?line=2'>3</a>\u001b[0m \u001b[39m    This function takes a dataframe with smiles and returns a dataframe with Morgan fingerprints, using AllChem.GetMorganFingerprint, converted in to a vector.\u001b[39;00m\n\u001b[1;32m      <a href='vscode-notebook-cell:/Users/danmarti/Documents/MRC_postdoc/My_projects/Ecoli_metabolic_modelling/code/smiles2MorganFP.ipynb#ch0000009?line=3'>4</a>\u001b[0m \u001b[39m    \"\"\"\u001b[39;00m\n\u001b[0;32m----> <a href='vscode-notebook-cell:/Users/danmarti/Documents/MRC_postdoc/My_projects/Ecoli_metabolic_modelling/code/smiles2MorganFP.ipynb#ch0000009?line=4'>5</a>\u001b[0m     df[\u001b[39m'\u001b[39m\u001b[39mMorganFP\u001b[39m\u001b[39m'\u001b[39m] \u001b[39m=\u001b[39m df[\u001b[39m'\u001b[39m\u001b[39msmiles\u001b[39m\u001b[39m'\u001b[39m]\u001b[39m.\u001b[39mapply(\u001b[39mlambda\u001b[39;00m x: AllChem\u001b[39m.\u001b[39;49mGetMorganFingerprintAsBitVect(Chem\u001b[39m.\u001b[39;49mMolFromSmiles(x), \u001b[39m2\u001b[39;49m))\n\u001b[1;32m      <a href='vscode-notebook-cell:/Users/danmarti/Documents/MRC_postdoc/My_projects/Ecoli_metabolic_modelling/code/smiles2MorganFP.ipynb#ch0000009?line=5'>6</a>\u001b[0m     \u001b[39mreturn\u001b[39;00m df\n",
      "\u001b[0;31mArgumentError\u001b[0m: Python argument types in\n    rdkit.Chem.rdMolDescriptors.GetMorganFingerprintAsBitVect(NoneType, int)\ndid not match C++ signature:\n    GetMorganFingerprintAsBitVect(RDKit::ROMol mol, unsigned int radius, unsigned int nBits=2048, boost::python::api::object invariants=[], boost::python::api::object fromAtoms=[], bool useChirality=False, bool useBondTypes=True, bool useFeatures=False, boost::python::api::object bitInfo=None, bool includeRedundantEnvironments=False)"
     ]
    }
   ],
   "source": [
    "smiles2MorganFP(df.head(9250))"
   ]
  },
  {
   "cell_type": "code",
   "execution_count": null,
   "metadata": {},
   "outputs": [],
   "source": []
  }
 ],
 "metadata": {
  "kernelspec": {
   "display_name": "Python 3.9.13 ('rdkit')",
   "language": "python",
   "name": "python3"
  },
  "language_info": {
   "codemirror_mode": {
    "name": "ipython",
    "version": 3
   },
   "file_extension": ".py",
   "mimetype": "text/x-python",
   "name": "python",
   "nbconvert_exporter": "python",
   "pygments_lexer": "ipython3",
   "version": "3.10.5"
  },
  "orig_nbformat": 4,
  "vscode": {
   "interpreter": {
    "hash": "aded9d5db84ef36a5fb06733554b94641c8fe63fb08df32c25510d9e541b4b39"
   }
  }
 },
 "nbformat": 4,
 "nbformat_minor": 2
}
